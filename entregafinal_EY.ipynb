{
  "nbformat": 4,
  "nbformat_minor": 0,
  "metadata": {
    "colab": {
      "provenance": [],
      "collapsed_sections": [],
      "authorship_tag": "ABX9TyPcviR9tpFCaiMMjm9oS0mt",
      "include_colab_link": true
    },
    "kernelspec": {
      "name": "python3",
      "display_name": "Python 3"
    },
    "language_info": {
      "name": "python"
    }
  },
  "cells": [
    {
      "cell_type": "markdown",
      "metadata": {
        "id": "view-in-github",
        "colab_type": "text"
      },
      "source": [
        "<a href=\"https://colab.research.google.com/github/GilbertoGavioli/projetosEY/blob/main/entregafinal_EY.ipynb\" target=\"_parent\"><img src=\"https://colab.research.google.com/assets/colab-badge.svg\" alt=\"Open In Colab\"/></a>"
      ]
    },
    {
      "cell_type": "markdown",
      "source": [
        "\n",
        "Este programa tem por objetivo criar uma assistente virtual que que mostra alguns dados do acidente do titanic, esta assistente usa a biblioteca do google para gravar falar algumas frases predefinidas e tambem reconhece alguns comandos de voz, comandos esses que tem por finalidade chamar alguns metodos que exigem por exemplo a quantidade de pessoas que sobreviveram ao acidente\n",
        "  "
      ],
      "metadata": {
        "id": "vr7LaN15V0Gm"
      }
    },
    {
      "cell_type": "code",
      "execution_count": 7,
      "metadata": {
        "colab": {
          "base_uri": "https://localhost:8080/"
        },
        "id": "fEMffFXdVqBS",
        "outputId": "979ab160-3840-4272-9e2e-81d46e217793"
      },
      "outputs": [
        {
          "output_type": "stream",
          "name": "stdout",
          "text": [
            "Looking in indexes: https://pypi.org/simple, https://us-python.pkg.dev/colab-wheels/public/simple/\n",
            "Requirement already satisfied: SpeechRecognition in /usr/local/lib/python3.7/dist-packages (3.8.1)\n"
          ]
        }
      ],
      "source": [
        "pip install SpeechRecognition"
      ]
    },
    {
      "cell_type": "code",
      "source": [
        "pip install gTTS"
      ],
      "metadata": {
        "colab": {
          "base_uri": "https://localhost:8080/"
        },
        "id": "YAjex5ToaDe4",
        "outputId": "237df804-44fc-44d0-8cab-42855557f703"
      },
      "execution_count": 8,
      "outputs": [
        {
          "output_type": "stream",
          "name": "stdout",
          "text": [
            "Looking in indexes: https://pypi.org/simple, https://us-python.pkg.dev/colab-wheels/public/simple/\n",
            "Requirement already satisfied: gTTS in /usr/local/lib/python3.7/dist-packages (2.2.4)\n",
            "Requirement already satisfied: click in /usr/local/lib/python3.7/dist-packages (from gTTS) (7.1.2)\n",
            "Requirement already satisfied: requests in /usr/local/lib/python3.7/dist-packages (from gTTS) (2.23.0)\n",
            "Requirement already satisfied: six in /usr/local/lib/python3.7/dist-packages (from gTTS) (1.15.0)\n",
            "Requirement already satisfied: chardet<4,>=3.0.2 in /usr/local/lib/python3.7/dist-packages (from requests->gTTS) (3.0.4)\n",
            "Requirement already satisfied: certifi>=2017.4.17 in /usr/local/lib/python3.7/dist-packages (from requests->gTTS) (2022.9.24)\n",
            "Requirement already satisfied: urllib3!=1.25.0,!=1.25.1,<1.26,>=1.21.1 in /usr/local/lib/python3.7/dist-packages (from requests->gTTS) (1.24.3)\n",
            "Requirement already satisfied: idna<3,>=2.5 in /usr/local/lib/python3.7/dist-packages (from requests->gTTS) (2.10)\n"
          ]
        }
      ]
    },
    {
      "cell_type": "code",
      "source": [
        "!pip install os"
      ],
      "metadata": {
        "colab": {
          "base_uri": "https://localhost:8080/"
        },
        "id": "qkQbWC7vcUtx",
        "outputId": "9bf3bdef-4483-4ba5-b8c2-50c913d2f577"
      },
      "execution_count": 9,
      "outputs": [
        {
          "output_type": "stream",
          "name": "stdout",
          "text": [
            "Looking in indexes: https://pypi.org/simple, https://us-python.pkg.dev/colab-wheels/public/simple/\n",
            "\u001b[31mERROR: Could not find a version that satisfies the requirement os (from versions: none)\u001b[0m\n",
            "\u001b[31mERROR: No matching distribution found for os\u001b[0m\n"
          ]
        }
      ]
    },
    {
      "cell_type": "code",
      "source": [
        "pip install pandas"
      ],
      "metadata": {
        "colab": {
          "base_uri": "https://localhost:8080/"
        },
        "id": "ajGTcMc_cZ5u",
        "outputId": "0075ae0e-13de-4c09-ea62-9f044540a024"
      },
      "execution_count": 10,
      "outputs": [
        {
          "output_type": "stream",
          "name": "stdout",
          "text": [
            "Looking in indexes: https://pypi.org/simple, https://us-python.pkg.dev/colab-wheels/public/simple/\n",
            "Requirement already satisfied: pandas in /usr/local/lib/python3.7/dist-packages (1.3.5)\n",
            "Requirement already satisfied: python-dateutil>=2.7.3 in /usr/local/lib/python3.7/dist-packages (from pandas) (2.8.2)\n",
            "Requirement already satisfied: numpy>=1.17.3 in /usr/local/lib/python3.7/dist-packages (from pandas) (1.21.6)\n",
            "Requirement already satisfied: pytz>=2017.3 in /usr/local/lib/python3.7/dist-packages (from pandas) (2022.5)\n",
            "Requirement already satisfied: six>=1.5 in /usr/local/lib/python3.7/dist-packages (from python-dateutil>=2.7.3->pandas) (1.15.0)\n"
          ]
        }
      ]
    },
    {
      "cell_type": "code",
      "source": [
        "pip install numpy"
      ],
      "metadata": {
        "colab": {
          "base_uri": "https://localhost:8080/"
        },
        "id": "dH4fBvgLcrbD",
        "outputId": "fb0a41fd-9f2f-4118-cfae-8e551efc2417"
      },
      "execution_count": 11,
      "outputs": [
        {
          "output_type": "stream",
          "name": "stdout",
          "text": [
            "Looking in indexes: https://pypi.org/simple, https://us-python.pkg.dev/colab-wheels/public/simple/\n",
            "Requirement already satisfied: numpy in /usr/local/lib/python3.7/dist-packages (1.21.6)\n"
          ]
        }
      ]
    },
    {
      "cell_type": "code",
      "source": [
        "pip install matplotlib"
      ],
      "metadata": {
        "colab": {
          "base_uri": "https://localhost:8080/"
        },
        "id": "-2PPvaNXcxSk",
        "outputId": "c06140d3-2f81-4007-b0eb-da01c748964b"
      },
      "execution_count": 12,
      "outputs": [
        {
          "output_type": "stream",
          "name": "stdout",
          "text": [
            "Looking in indexes: https://pypi.org/simple, https://us-python.pkg.dev/colab-wheels/public/simple/\n",
            "Requirement already satisfied: matplotlib in /usr/local/lib/python3.7/dist-packages (3.2.2)\n",
            "Requirement already satisfied: cycler>=0.10 in /usr/local/lib/python3.7/dist-packages (from matplotlib) (0.11.0)\n",
            "Requirement already satisfied: pyparsing!=2.0.4,!=2.1.2,!=2.1.6,>=2.0.1 in /usr/local/lib/python3.7/dist-packages (from matplotlib) (3.0.9)\n",
            "Requirement already satisfied: kiwisolver>=1.0.1 in /usr/local/lib/python3.7/dist-packages (from matplotlib) (1.4.4)\n",
            "Requirement already satisfied: numpy>=1.11 in /usr/local/lib/python3.7/dist-packages (from matplotlib) (1.21.6)\n",
            "Requirement already satisfied: python-dateutil>=2.1 in /usr/local/lib/python3.7/dist-packages (from matplotlib) (2.8.2)\n",
            "Requirement already satisfied: typing-extensions in /usr/local/lib/python3.7/dist-packages (from kiwisolver>=1.0.1->matplotlib) (4.1.1)\n",
            "Requirement already satisfied: six>=1.5 in /usr/local/lib/python3.7/dist-packages (from python-dateutil>=2.1->matplotlib) (1.15.0)\n"
          ]
        }
      ]
    },
    {
      "cell_type": "code",
      "source": [
        "pip install pandas"
      ],
      "metadata": {
        "colab": {
          "base_uri": "https://localhost:8080/"
        },
        "id": "uJuGMoUOdR60",
        "outputId": "ae557641-058d-44e6-a3d3-afaa6d0f105c"
      },
      "execution_count": 13,
      "outputs": [
        {
          "output_type": "stream",
          "name": "stdout",
          "text": [
            "Looking in indexes: https://pypi.org/simple, https://us-python.pkg.dev/colab-wheels/public/simple/\n",
            "Requirement already satisfied: pandas in /usr/local/lib/python3.7/dist-packages (1.3.5)\n",
            "Requirement already satisfied: numpy>=1.17.3 in /usr/local/lib/python3.7/dist-packages (from pandas) (1.21.6)\n",
            "Requirement already satisfied: pytz>=2017.3 in /usr/local/lib/python3.7/dist-packages (from pandas) (2022.5)\n",
            "Requirement already satisfied: python-dateutil>=2.7.3 in /usr/local/lib/python3.7/dist-packages (from pandas) (2.8.2)\n",
            "Requirement already satisfied: six>=1.5 in /usr/local/lib/python3.7/dist-packages (from python-dateutil>=2.7.3->pandas) (1.15.0)\n"
          ]
        }
      ]
    },
    {
      "cell_type": "code",
      "source": [
        "pip install seaborn"
      ],
      "metadata": {
        "colab": {
          "base_uri": "https://localhost:8080/"
        },
        "id": "_0ise39eeO-m",
        "outputId": "44c867c9-2af1-426e-de8f-fc9b0e9ab907"
      },
      "execution_count": 14,
      "outputs": [
        {
          "output_type": "stream",
          "name": "stdout",
          "text": [
            "Looking in indexes: https://pypi.org/simple, https://us-python.pkg.dev/colab-wheels/public/simple/\n",
            "Requirement already satisfied: seaborn in /usr/local/lib/python3.7/dist-packages (0.11.2)\n",
            "Requirement already satisfied: pandas>=0.23 in /usr/local/lib/python3.7/dist-packages (from seaborn) (1.3.5)\n",
            "Requirement already satisfied: matplotlib>=2.2 in /usr/local/lib/python3.7/dist-packages (from seaborn) (3.2.2)\n",
            "Requirement already satisfied: numpy>=1.15 in /usr/local/lib/python3.7/dist-packages (from seaborn) (1.21.6)\n",
            "Requirement already satisfied: scipy>=1.0 in /usr/local/lib/python3.7/dist-packages (from seaborn) (1.7.3)\n",
            "Requirement already satisfied: python-dateutil>=2.1 in /usr/local/lib/python3.7/dist-packages (from matplotlib>=2.2->seaborn) (2.8.2)\n",
            "Requirement already satisfied: pyparsing!=2.0.4,!=2.1.2,!=2.1.6,>=2.0.1 in /usr/local/lib/python3.7/dist-packages (from matplotlib>=2.2->seaborn) (3.0.9)\n",
            "Requirement already satisfied: kiwisolver>=1.0.1 in /usr/local/lib/python3.7/dist-packages (from matplotlib>=2.2->seaborn) (1.4.4)\n",
            "Requirement already satisfied: cycler>=0.10 in /usr/local/lib/python3.7/dist-packages (from matplotlib>=2.2->seaborn) (0.11.0)\n",
            "Requirement already satisfied: typing-extensions in /usr/local/lib/python3.7/dist-packages (from kiwisolver>=1.0.1->matplotlib>=2.2->seaborn) (4.1.1)\n",
            "Requirement already satisfied: pytz>=2017.3 in /usr/local/lib/python3.7/dist-packages (from pandas>=0.23->seaborn) (2022.5)\n",
            "Requirement already satisfied: six>=1.5 in /usr/local/lib/python3.7/dist-packages (from python-dateutil>=2.1->matplotlib>=2.2->seaborn) (1.15.0)\n"
          ]
        }
      ]
    },
    {
      "cell_type": "code",
      "source": [
        "!apt install libasound2-dev portaudio19-dev libportaudio2 libportaudiocpp0 ffmpeg"
      ],
      "metadata": {
        "colab": {
          "base_uri": "https://localhost:8080/"
        },
        "id": "Jn52Z_3Iguin",
        "outputId": "7e4c125e-4e96-4029-9e27-5701cf003cf8"
      },
      "execution_count": 15,
      "outputs": [
        {
          "output_type": "stream",
          "name": "stdout",
          "text": [
            "Reading package lists... Done\n",
            "Building dependency tree       \n",
            "Reading state information... Done\n",
            "libasound2-dev is already the newest version (1.1.3-5ubuntu0.6).\n",
            "ffmpeg is already the newest version (7:3.4.11-0ubuntu0.1).\n",
            "The following package was automatically installed and is no longer required:\n",
            "  libnvidia-common-460\n",
            "Use 'apt autoremove' to remove it.\n",
            "Suggested packages:\n",
            "  portaudio19-doc\n",
            "The following NEW packages will be installed:\n",
            "  libportaudio2 libportaudiocpp0 portaudio19-dev\n",
            "0 upgraded, 3 newly installed, 0 to remove and 29 not upgraded.\n",
            "Need to get 184 kB of archives.\n",
            "After this operation, 891 kB of additional disk space will be used.\n",
            "Get:1 http://archive.ubuntu.com/ubuntu bionic/universe amd64 libportaudio2 amd64 19.6.0-1 [64.6 kB]\n",
            "Get:2 http://archive.ubuntu.com/ubuntu bionic/universe amd64 libportaudiocpp0 amd64 19.6.0-1 [15.1 kB]\n",
            "Get:3 http://archive.ubuntu.com/ubuntu bionic/universe amd64 portaudio19-dev amd64 19.6.0-1 [104 kB]\n",
            "Fetched 184 kB in 0s (563 kB/s)\n",
            "Selecting previously unselected package libportaudio2:amd64.\n",
            "(Reading database ... 123942 files and directories currently installed.)\n",
            "Preparing to unpack .../libportaudio2_19.6.0-1_amd64.deb ...\n",
            "Unpacking libportaudio2:amd64 (19.6.0-1) ...\n",
            "Selecting previously unselected package libportaudiocpp0:amd64.\n",
            "Preparing to unpack .../libportaudiocpp0_19.6.0-1_amd64.deb ...\n",
            "Unpacking libportaudiocpp0:amd64 (19.6.0-1) ...\n",
            "Selecting previously unselected package portaudio19-dev:amd64.\n",
            "Preparing to unpack .../portaudio19-dev_19.6.0-1_amd64.deb ...\n",
            "Unpacking portaudio19-dev:amd64 (19.6.0-1) ...\n",
            "Setting up libportaudio2:amd64 (19.6.0-1) ...\n",
            "Setting up libportaudiocpp0:amd64 (19.6.0-1) ...\n",
            "Setting up portaudio19-dev:amd64 (19.6.0-1) ...\n",
            "Processing triggers for libc-bin (2.27-3ubuntu1.6) ...\n"
          ]
        }
      ]
    },
    {
      "cell_type": "code",
      "source": [
        "!pip install ffmpeg-python"
      ],
      "metadata": {
        "colab": {
          "base_uri": "https://localhost:8080/"
        },
        "id": "FlLfVkS5uNz2",
        "outputId": "11fd0e82-25c4-4685-fb8b-8abd572cf1f9"
      },
      "execution_count": 16,
      "outputs": [
        {
          "output_type": "stream",
          "name": "stdout",
          "text": [
            "Looking in indexes: https://pypi.org/simple, https://us-python.pkg.dev/colab-wheels/public/simple/\n",
            "Collecting ffmpeg-python\n",
            "  Downloading ffmpeg_python-0.2.0-py3-none-any.whl (25 kB)\n",
            "Requirement already satisfied: future in /usr/local/lib/python3.7/dist-packages (from ffmpeg-python) (0.16.0)\n",
            "Installing collected packages: ffmpeg-python\n",
            "Successfully installed ffmpeg-python-0.2.0\n"
          ]
        }
      ]
    },
    {
      "cell_type": "code",
      "source": [
        "pip install display"
      ],
      "metadata": {
        "colab": {
          "base_uri": "https://localhost:8080/"
        },
        "id": "3cyGtd1_imFe",
        "outputId": "d7c1ec96-0ee4-48c7-f739-70f6c20f37aa"
      },
      "execution_count": 17,
      "outputs": [
        {
          "output_type": "stream",
          "name": "stdout",
          "text": [
            "Looking in indexes: https://pypi.org/simple, https://us-python.pkg.dev/colab-wheels/public/simple/\n",
            "Collecting display\n",
            "  Downloading display-1.0.0.tar.gz (687 bytes)\n",
            "Building wheels for collected packages: display\n",
            "  Building wheel for display (setup.py) ... \u001b[?25l\u001b[?25hdone\n",
            "  Created wheel for display: filename=display-1.0.0-py3-none-any.whl size=1405 sha256=ca96973769890dd969f12f906d9bef296010ab69091dd36c772539df41f699a2\n",
            "  Stored in directory: /root/.cache/pip/wheels/28/ec/cc/8f044b2a2dd8b45ccfc45317e7e9aa4e544e6c0b2a737330ae\n",
            "Successfully built display\n",
            "Installing collected packages: display\n",
            "Successfully installed display-1.0.0\n"
          ]
        }
      ]
    },
    {
      "cell_type": "code",
      "source": [
        "pip install tensorflow"
      ],
      "metadata": {
        "colab": {
          "base_uri": "https://localhost:8080/"
        },
        "id": "RUD6-u9Oc-Tc",
        "outputId": "82fcc134-1d64-494d-f761-d6ee94efdca0"
      },
      "execution_count": 18,
      "outputs": [
        {
          "output_type": "stream",
          "name": "stdout",
          "text": [
            "Looking in indexes: https://pypi.org/simple, https://us-python.pkg.dev/colab-wheels/public/simple/\n",
            "Requirement already satisfied: tensorflow in /usr/local/lib/python3.7/dist-packages (2.9.2)\n",
            "Requirement already satisfied: google-pasta>=0.1.1 in /usr/local/lib/python3.7/dist-packages (from tensorflow) (0.2.0)\n",
            "Requirement already satisfied: keras-preprocessing>=1.1.1 in /usr/local/lib/python3.7/dist-packages (from tensorflow) (1.1.2)\n",
            "Requirement already satisfied: six>=1.12.0 in /usr/local/lib/python3.7/dist-packages (from tensorflow) (1.15.0)\n",
            "Requirement already satisfied: termcolor>=1.1.0 in /usr/local/lib/python3.7/dist-packages (from tensorflow) (2.0.1)\n",
            "Requirement already satisfied: tensorflow-estimator<2.10.0,>=2.9.0rc0 in /usr/local/lib/python3.7/dist-packages (from tensorflow) (2.9.0)\n",
            "Requirement already satisfied: wrapt>=1.11.0 in /usr/local/lib/python3.7/dist-packages (from tensorflow) (1.14.1)\n",
            "Requirement already satisfied: opt-einsum>=2.3.2 in /usr/local/lib/python3.7/dist-packages (from tensorflow) (3.3.0)\n",
            "Requirement already satisfied: grpcio<2.0,>=1.24.3 in /usr/local/lib/python3.7/dist-packages (from tensorflow) (1.50.0)\n",
            "Requirement already satisfied: astunparse>=1.6.0 in /usr/local/lib/python3.7/dist-packages (from tensorflow) (1.6.3)\n",
            "Requirement already satisfied: setuptools in /usr/local/lib/python3.7/dist-packages (from tensorflow) (57.4.0)\n",
            "Requirement already satisfied: tensorboard<2.10,>=2.9 in /usr/local/lib/python3.7/dist-packages (from tensorflow) (2.9.1)\n",
            "Requirement already satisfied: h5py>=2.9.0 in /usr/local/lib/python3.7/dist-packages (from tensorflow) (3.1.0)\n",
            "Requirement already satisfied: numpy>=1.20 in /usr/local/lib/python3.7/dist-packages (from tensorflow) (1.21.6)\n",
            "Requirement already satisfied: gast<=0.4.0,>=0.2.1 in /usr/local/lib/python3.7/dist-packages (from tensorflow) (0.4.0)\n",
            "Requirement already satisfied: flatbuffers<2,>=1.12 in /usr/local/lib/python3.7/dist-packages (from tensorflow) (1.12)\n",
            "Requirement already satisfied: protobuf<3.20,>=3.9.2 in /usr/local/lib/python3.7/dist-packages (from tensorflow) (3.17.3)\n",
            "Requirement already satisfied: tensorflow-io-gcs-filesystem>=0.23.1 in /usr/local/lib/python3.7/dist-packages (from tensorflow) (0.27.0)\n",
            "Requirement already satisfied: keras<2.10.0,>=2.9.0rc0 in /usr/local/lib/python3.7/dist-packages (from tensorflow) (2.9.0)\n",
            "Requirement already satisfied: libclang>=13.0.0 in /usr/local/lib/python3.7/dist-packages (from tensorflow) (14.0.6)\n",
            "Requirement already satisfied: absl-py>=1.0.0 in /usr/local/lib/python3.7/dist-packages (from tensorflow) (1.3.0)\n",
            "Requirement already satisfied: packaging in /usr/local/lib/python3.7/dist-packages (from tensorflow) (21.3)\n",
            "Requirement already satisfied: typing-extensions>=3.6.6 in /usr/local/lib/python3.7/dist-packages (from tensorflow) (4.1.1)\n",
            "Requirement already satisfied: wheel<1.0,>=0.23.0 in /usr/local/lib/python3.7/dist-packages (from astunparse>=1.6.0->tensorflow) (0.37.1)\n",
            "Requirement already satisfied: cached-property in /usr/local/lib/python3.7/dist-packages (from h5py>=2.9.0->tensorflow) (1.5.2)\n",
            "Requirement already satisfied: markdown>=2.6.8 in /usr/local/lib/python3.7/dist-packages (from tensorboard<2.10,>=2.9->tensorflow) (3.4.1)\n",
            "Requirement already satisfied: requests<3,>=2.21.0 in /usr/local/lib/python3.7/dist-packages (from tensorboard<2.10,>=2.9->tensorflow) (2.23.0)\n",
            "Requirement already satisfied: tensorboard-plugin-wit>=1.6.0 in /usr/local/lib/python3.7/dist-packages (from tensorboard<2.10,>=2.9->tensorflow) (1.8.1)\n",
            "Requirement already satisfied: werkzeug>=1.0.1 in /usr/local/lib/python3.7/dist-packages (from tensorboard<2.10,>=2.9->tensorflow) (1.0.1)\n",
            "Requirement already satisfied: google-auth-oauthlib<0.5,>=0.4.1 in /usr/local/lib/python3.7/dist-packages (from tensorboard<2.10,>=2.9->tensorflow) (0.4.6)\n",
            "Requirement already satisfied: tensorboard-data-server<0.7.0,>=0.6.0 in /usr/local/lib/python3.7/dist-packages (from tensorboard<2.10,>=2.9->tensorflow) (0.6.1)\n",
            "Requirement already satisfied: google-auth<3,>=1.6.3 in /usr/local/lib/python3.7/dist-packages (from tensorboard<2.10,>=2.9->tensorflow) (1.35.0)\n",
            "Requirement already satisfied: rsa<5,>=3.1.4 in /usr/local/lib/python3.7/dist-packages (from google-auth<3,>=1.6.3->tensorboard<2.10,>=2.9->tensorflow) (4.9)\n",
            "Requirement already satisfied: cachetools<5.0,>=2.0.0 in /usr/local/lib/python3.7/dist-packages (from google-auth<3,>=1.6.3->tensorboard<2.10,>=2.9->tensorflow) (4.2.4)\n",
            "Requirement already satisfied: pyasn1-modules>=0.2.1 in /usr/local/lib/python3.7/dist-packages (from google-auth<3,>=1.6.3->tensorboard<2.10,>=2.9->tensorflow) (0.2.8)\n",
            "Requirement already satisfied: requests-oauthlib>=0.7.0 in /usr/local/lib/python3.7/dist-packages (from google-auth-oauthlib<0.5,>=0.4.1->tensorboard<2.10,>=2.9->tensorflow) (1.3.1)\n",
            "Requirement already satisfied: importlib-metadata>=4.4 in /usr/local/lib/python3.7/dist-packages (from markdown>=2.6.8->tensorboard<2.10,>=2.9->tensorflow) (4.13.0)\n",
            "Requirement already satisfied: zipp>=0.5 in /usr/local/lib/python3.7/dist-packages (from importlib-metadata>=4.4->markdown>=2.6.8->tensorboard<2.10,>=2.9->tensorflow) (3.9.0)\n",
            "Requirement already satisfied: pyasn1<0.5.0,>=0.4.6 in /usr/local/lib/python3.7/dist-packages (from pyasn1-modules>=0.2.1->google-auth<3,>=1.6.3->tensorboard<2.10,>=2.9->tensorflow) (0.4.8)\n",
            "Requirement already satisfied: idna<3,>=2.5 in /usr/local/lib/python3.7/dist-packages (from requests<3,>=2.21.0->tensorboard<2.10,>=2.9->tensorflow) (2.10)\n",
            "Requirement already satisfied: chardet<4,>=3.0.2 in /usr/local/lib/python3.7/dist-packages (from requests<3,>=2.21.0->tensorboard<2.10,>=2.9->tensorflow) (3.0.4)\n",
            "Requirement already satisfied: certifi>=2017.4.17 in /usr/local/lib/python3.7/dist-packages (from requests<3,>=2.21.0->tensorboard<2.10,>=2.9->tensorflow) (2022.9.24)\n",
            "Requirement already satisfied: urllib3!=1.25.0,!=1.25.1,<1.26,>=1.21.1 in /usr/local/lib/python3.7/dist-packages (from requests<3,>=2.21.0->tensorboard<2.10,>=2.9->tensorflow) (1.24.3)\n",
            "Requirement already satisfied: oauthlib>=3.0.0 in /usr/local/lib/python3.7/dist-packages (from requests-oauthlib>=0.7.0->google-auth-oauthlib<0.5,>=0.4.1->tensorboard<2.10,>=2.9->tensorflow) (3.2.2)\n",
            "Requirement already satisfied: pyparsing!=3.0.5,>=2.0.2 in /usr/local/lib/python3.7/dist-packages (from packaging->tensorflow) (3.0.9)\n"
          ]
        }
      ]
    },
    {
      "cell_type": "code",
      "source": [
        "pip install keras"
      ],
      "metadata": {
        "colab": {
          "base_uri": "https://localhost:8080/"
        },
        "id": "LZHYo4SWc-Oz",
        "outputId": "773e3c99-7a4d-4ee4-f74f-3de689ee84cd"
      },
      "execution_count": 19,
      "outputs": [
        {
          "output_type": "stream",
          "name": "stdout",
          "text": [
            "Looking in indexes: https://pypi.org/simple, https://us-python.pkg.dev/colab-wheels/public/simple/\n",
            "Requirement already satisfied: keras in /usr/local/lib/python3.7/dist-packages (2.9.0)\n"
          ]
        }
      ]
    },
    {
      "cell_type": "code",
      "source": [
        "pip install theano"
      ],
      "metadata": {
        "colab": {
          "base_uri": "https://localhost:8080/"
        },
        "id": "IUtABLRyc-Gw",
        "outputId": "51515a84-dd0f-4174-a3f6-1d7364c5cb87"
      },
      "execution_count": 20,
      "outputs": [
        {
          "output_type": "stream",
          "name": "stdout",
          "text": [
            "Looking in indexes: https://pypi.org/simple, https://us-python.pkg.dev/colab-wheels/public/simple/\n",
            "Collecting theano\n",
            "  Downloading Theano-1.0.5.tar.gz (2.8 MB)\n",
            "\u001b[K     |████████████████████████████████| 2.8 MB 4.7 MB/s \n",
            "\u001b[?25hRequirement already satisfied: numpy>=1.9.1 in /usr/local/lib/python3.7/dist-packages (from theano) (1.21.6)\n",
            "Requirement already satisfied: scipy>=0.14 in /usr/local/lib/python3.7/dist-packages (from theano) (1.7.3)\n",
            "Requirement already satisfied: six>=1.9.0 in /usr/local/lib/python3.7/dist-packages (from theano) (1.15.0)\n",
            "Building wheels for collected packages: theano\n",
            "  Building wheel for theano (setup.py) ... \u001b[?25l\u001b[?25hdone\n",
            "  Created wheel for theano: filename=Theano-1.0.5-py3-none-any.whl size=2668111 sha256=fbca495d2ec43b0ec4cadf8038423e63be67b2243c2b8c5bd59b7b37dcf6fc0e\n",
            "  Stored in directory: /root/.cache/pip/wheels/26/68/6f/745330367ce7822fe0cd863712858151f5723a0a5e322cc144\n",
            "Successfully built theano\n",
            "Installing collected packages: theano\n",
            "Successfully installed theano-1.0.5\n"
          ]
        }
      ]
    },
    {
      "cell_type": "code",
      "source": [
        "pip install pyaudio"
      ],
      "metadata": {
        "colab": {
          "base_uri": "https://localhost:8080/"
        },
        "id": "0Ellewjy-S-j",
        "outputId": "a13ea07e-d692-430d-f67a-a7a0c13b713f"
      },
      "execution_count": 21,
      "outputs": [
        {
          "output_type": "stream",
          "name": "stdout",
          "text": [
            "Looking in indexes: https://pypi.org/simple, https://us-python.pkg.dev/colab-wheels/public/simple/\n",
            "Collecting pyaudio\n",
            "  Downloading PyAudio-0.2.12.tar.gz (42 kB)\n",
            "\u001b[K     |████████████████████████████████| 42 kB 1.3 MB/s \n",
            "\u001b[?25h  Installing build dependencies ... \u001b[?25l\u001b[?25hdone\n",
            "  Getting requirements to build wheel ... \u001b[?25l\u001b[?25hdone\n",
            "    Preparing wheel metadata ... \u001b[?25l\u001b[?25hdone\n",
            "Building wheels for collected packages: pyaudio\n",
            "  Building wheel for pyaudio (PEP 517) ... \u001b[?25l\u001b[?25hdone\n",
            "  Created wheel for pyaudio: filename=PyAudio-0.2.12-cp37-cp37m-linux_x86_64.whl size=53839 sha256=61ae3d84b7b04568320c53bb0893b71ca3afe1c2ba76198c86d9a3a17eb2edca\n",
            "  Stored in directory: /root/.cache/pip/wheels/35/e0/b2/0e02f4af505bc69cd9f349eba8d6c558cd07e184a9a16f3537\n",
            "Successfully built pyaudio\n",
            "Installing collected packages: pyaudio\n",
            "Successfully installed pyaudio-0.2.12\n"
          ]
        }
      ]
    },
    {
      "cell_type": "code",
      "source": [
        "pip install playsound"
      ],
      "metadata": {
        "colab": {
          "base_uri": "https://localhost:8080/"
        },
        "id": "nbIj_ipj0Pi8",
        "outputId": "fa450d59-9cd0-4d5a-a956-3406e50f9775"
      },
      "execution_count": 22,
      "outputs": [
        {
          "output_type": "stream",
          "name": "stdout",
          "text": [
            "Looking in indexes: https://pypi.org/simple, https://us-python.pkg.dev/colab-wheels/public/simple/\n",
            "Collecting playsound\n",
            "  Downloading playsound-1.3.0.tar.gz (7.7 kB)\n",
            "Building wheels for collected packages: playsound\n",
            "  Building wheel for playsound (setup.py) ... \u001b[?25l\u001b[?25hdone\n",
            "  Created wheel for playsound: filename=playsound-1.3.0-py3-none-any.whl size=7035 sha256=e1765a04bbe2016cec51eb888a08149c30777da058ffeb287d0904e2fa9f8e75\n",
            "  Stored in directory: /root/.cache/pip/wheels/ba/f8/bb/ea57c0146b664dca3a0ada4199b0ecb5f9dfcb7b7e22b65ba2\n",
            "Successfully built playsound\n",
            "Installing collected packages: playsound\n",
            "Successfully installed playsound-1.3.0\n"
          ]
        }
      ]
    },
    {
      "cell_type": "code",
      "source": [
        "!pip install SpeechRecognition"
      ],
      "metadata": {
        "colab": {
          "base_uri": "https://localhost:8080/"
        },
        "id": "R48hRvTwufhu",
        "outputId": "2e8eae58-e621-4cc2-a3ab-62f72bbfb9d0"
      },
      "execution_count": 23,
      "outputs": [
        {
          "output_type": "stream",
          "name": "stdout",
          "text": [
            "Looking in indexes: https://pypi.org/simple, https://us-python.pkg.dev/colab-wheels/public/simple/\n",
            "Requirement already satisfied: SpeechRecognition in /usr/local/lib/python3.7/dist-packages (3.8.1)\n"
          ]
        }
      ]
    },
    {
      "cell_type": "markdown",
      "source": [
        "codigo usado para capturar o audio atraves do javascript"
      ],
      "metadata": {
        "id": "vbOxgJlaYZM2"
      }
    },
    {
      "cell_type": "code",
      "source": [
        "from IPython.display import HTML, Audio\n",
        "from google.colab.output import eval_js\n",
        "from base64 import b64decode\n",
        "import io\n",
        "import ffmpeg\n",
        "import time\n",
        "\n",
        "AUDIO_HTML = \"\"\"\n",
        "<script>\n",
        "var my_div = document.createElement(\"DIV\");\n",
        "var my_p = document.createElement(\"P\");\n",
        "var my_btn = document.createElement(\"BUTTON\");\n",
        "var t = document.createTextNode(\"Press to start recording\");\n",
        "\n",
        "my_btn.appendChild(t);\n",
        "//my_p.appendChild(my_btn);\n",
        "my_div.appendChild(my_btn);\n",
        "document.body.appendChild(my_div);\n",
        "\n",
        "var base64data = 0;\n",
        "var reader;\n",
        "var recorder, gumStream;\n",
        "var recordButton = my_btn;\n",
        "\n",
        "var handleSuccess = function(stream) {\n",
        "  gumStream = stream;\n",
        "  var options = {\n",
        "    //bitsPerSecond: 8000, //chrome seems to ignore, always 48k\n",
        "    mimeType : 'audio/webm;codecs=opus'\n",
        "    //mimeType : 'audio/webm;codecs=pcm'\n",
        "  };            \n",
        "  //recorder = new MediaRecorder(stream, options);\n",
        "  recorder = new MediaRecorder(stream);\n",
        "  recorder.ondataavailable = function(e) {            \n",
        "    var url = URL.createObjectURL(e.data);\n",
        "    var preview = document.createElement('audio');\n",
        "    preview.controls = true;\n",
        "    preview.src = url;\n",
        "    document.body.appendChild(preview);\n",
        "\n",
        "    reader = new FileReader();\n",
        "    reader.readAsDataURL(e.data); \n",
        "    reader.onloadend = function() {\n",
        "      base64data = reader.result;\n",
        "      //console.log(\"Inside FileReader:\" + base64data);\n",
        "    }\n",
        "  };\n",
        "  recorder.start();\n",
        "  };\n",
        "\n",
        "recordButton.innerText = \"Gravando... aperte para parar\";\n",
        "\n",
        "navigator.mediaDevices.getUserMedia({audio: true}).then(handleSuccess);\n",
        "\n",
        "\n",
        "function toggleRecording() {\n",
        "  if (recorder && recorder.state == \"recording\") {\n",
        "      recorder.stop();\n",
        "      gumStream.getAudioTracks()[0].stop();\n",
        "     ;; recordButton.innerText = \"Salvando o arquivo ... esperar!\"\n",
        "  }\n",
        "}\n",
        "\n",
        "// https://stackoverflow.com/a/951057\n",
        "function sleep(ms) {\n",
        "  return new Promise(resolve => setTimeout(resolve, ms));\n",
        "}\n",
        "\n",
        "var data = new Promise(resolve=>{\n",
        "//recordButton.addEventListener(\"click\", toggleRecording);\n",
        "recordButton.onclick = ()=>{\n",
        "toggleRecording()\n",
        "\n",
        "sleep(2000).then(() => {\n",
        "  // wait 1000ms for the data to be available...\n",
        "  // ideally this should use something like await...\n",
        "  //console.log(\"Inside data:\" + base64data)\n",
        "  resolve(base64data.toString())\n",
        "\n",
        "});\n",
        "\n",
        "}\n",
        "});\n",
        "      \n",
        "</script>\n",
        "\"\"\"\n",
        "\n",
        "def get_audio():\n",
        "  display(HTML(AUDIO_HTML))\n",
        "  data = eval_js(\"data\")\n",
        "  binary = b64decode(data.split(',')[1])\n",
        "  \n",
        "  process = (ffmpeg\n",
        "    .input('pipe:0')\n",
        "    .output('pipe:1', format='wav')\n",
        "    .run_async(pipe_stdin=True, pipe_stdout=True, pipe_stderr=True, quiet=True, overwrite_output=True)\n",
        "  )\n",
        "  output, err = process.communicate(input=binary)\n",
        "\n",
        "  time.sleep(3)\n",
        "  \n",
        "  return output"
      ],
      "metadata": {
        "id": "kum9Aea_ukzX"
      },
      "execution_count": 24,
      "outputs": []
    },
    {
      "cell_type": "code",
      "source": [
        "from gtts import gTTS\n",
        "\n",
        "def responder(resposta: str):\n",
        "  language = \"pt-BR\"\n",
        "  gtts_object = gTTS(text = resposta, \n",
        "                    lang = language,\n",
        "                    slow = False)\n",
        "  fileName = \"/content/gtts.wav\"\n",
        "  gtts_object.save(fileName)\n",
        "  return fileName"
      ],
      "metadata": {
        "id": "mBrYDUwUu7pv"
      },
      "execution_count": 25,
      "outputs": []
    },
    {
      "cell_type": "code",
      "source": [
        "from logging import exception\n",
        "import os\n",
        "import gtts\n",
        "import speech_recognition as sr\n",
        "import time\n",
        "import pandas as pd\n",
        "import numpy as np\n",
        "import matplotlib.pyplot as plt\n",
        "import seaborn as sns"
      ],
      "metadata": {
        "id": "gDHN3id8c5fA"
      },
      "execution_count": 26,
      "outputs": []
    },
    {
      "cell_type": "markdown",
      "source": [
        "metodo responsavel por gerar instrucao de voz para o usuario"
      ],
      "metadata": {
        "id": "ry5z3tCufPEU"
      }
    },
    {
      "cell_type": "code",
      "source": [
        "from playsound import playsound\n",
        "\n",
        "def falar(texto_para_falar):\n",
        "    language = \"pt\"\n",
        "    audioGeradoWAV = 'texto.wav'\n",
        "    tts = gTTS(texto_para_falar, lang=language,slow = False) \n",
        "    tts.save(audioGeradoWAV)\n",
        "    wn = Audio(audioGeradoWAV, autoplay=True) ##\n",
        "    display(wn)\n",
        "    os.remove(audioGeradoWAV)"
      ],
      "metadata": {
        "id": "HaqC8lgazHlk",
        "colab": {
          "base_uri": "https://localhost:8080/"
        },
        "outputId": "0fa7a339-69fb-4e4c-cd37-d73a97825814"
      },
      "execution_count": 27,
      "outputs": [
        {
          "output_type": "stream",
          "name": "stderr",
          "text": [
            "WARNING:playsound:playsound is relying on another python subprocess. Please use `pip install pygobject` if you want playsound to run more efficiently.\n"
          ]
        }
      ]
    },
    {
      "cell_type": "markdown",
      "source": [
        "Carrega o dataset da atraves do pandas"
      ],
      "metadata": {
        "id": "zkl0I6urYA-b"
      }
    },
    {
      "cell_type": "code",
      "source": [
        "#importa o arquivo que sera usado para gerar os dados\n",
        "#aqui utilizamos a biblioteca pandas\n",
        "df = pd.read_csv('https://drive.google.com/uc?export=download&id=16QXJPOZ5XNrtvRRrTrlJM1cDw0MD5OQZ')\n",
        "#dt = pd.read_csv('https://drive.google.com/uc?export=download&id=1eiEcNgPAR0TI1hPALfOTCG8oF-XTdwiO')\n",
        "\n",
        "#df = pd.read_csv('https://storage.googleapis.com/tf-datasets/titanic/train.csv')"
      ],
      "metadata": {
        "id": "GWeflkP4gEnU"
      },
      "execution_count": 28,
      "outputs": []
    },
    {
      "cell_type": "markdown",
      "source": [
        "CArraga todoas as variaveis que serão usadas nas estatisticas"
      ],
      "metadata": {
        "id": "sKECnZP3X4Rq"
      }
    },
    {
      "cell_type": "code",
      "source": [
        "s_count = df.loc[df['Survived'] == 1, ['Sex']].value_counts(sort=False)\n",
        "\n",
        "survived_data = df[df['Survived'] == 1]\n",
        "death_data = df[df['Survived'] == 0]\n",
        "\n",
        "mulheresSv =  survived_data[survived_data['Sex']=='female'].count().values[1]\n",
        "homensSv =  survived_data[survived_data['Sex']=='male'].count().values[1]\n",
        "criancasSv = survived_data[survived_data['Age']<=13].count().values[1]\n",
        "\n",
        "mulheresDt =  death_data[death_data['Sex']=='female'].count().values[1]\n",
        "homensDt =  death_data[death_data['Sex']=='male'].count().values[1]\n",
        "criancasDt = death_data[death_data['Age']<=13].count().values[1]"
      ],
      "metadata": {
        "id": "dATPqg9Xj-po"
      },
      "execution_count": 29,
      "outputs": []
    },
    {
      "cell_type": "markdown",
      "source": [
        "Metodo que carrega todas as estatisticas para serem exibidas caso o usuario solicite"
      ],
      "metadata": {
        "id": "8lyvt-mgXrFy"
      }
    },
    {
      "cell_type": "code",
      "source": [
        "def estatisticas():\n",
        "\n",
        "  print('Passageiros agrupados por local de embarque (C = Cherbourg, Q = Queenstown, S = Southampton):')\n",
        "  print(df['Embarked'].value_counts())\n",
        "  \n",
        "\n",
        "  print(\"Sobreviventes por sexo\")\n",
        "  print(df[[\"Sex\", \"Survived\"]].groupby(['Sex'], as_index=False).mean().sort_values(by='Survived', ascending=False))\n",
        "  \n",
        "\n",
        "  # Countplot\n",
        "  print('Grafico de sobreviventes')\n",
        "  sns.catplot(x =\"Sex\", hue =\"Survived\",\n",
        "  kind =\"count\", data = df)\n"
      ],
      "metadata": {
        "id": "z9O7DxBc80l4",
        "colab": {
          "base_uri": "https://localhost:8080/",
          "height": 568
        },
        "outputId": "d55e6789-fa87-49bd-9907-c92eea5df79f"
      },
      "execution_count": 51,
      "outputs": [
        {
          "output_type": "stream",
          "name": "stdout",
          "text": [
            "Passageiros agrupados por local de embarque (C = Cherbourg, Q = Queenstown, S = Southampton):\n",
            "S    644\n",
            "C    168\n",
            "Q     77\n",
            "Name: Embarked, dtype: int64\n",
            "Sobreviventes por sexo\n",
            "      Sex  Survived\n",
            "0  female  0.742038\n",
            "1    male  0.188908\n",
            "Grafico de sobreviventes\n"
          ]
        },
        {
          "output_type": "display_data",
          "data": {
            "text/plain": [
              "<Figure size 411.875x360 with 1 Axes>"
            ],
            "image/png": "[encoded data removed]"
          },
          "metadata": {
            "needs_background": "light"
          }
        }
      ]
    },
    {
      "cell_type": "code",
      "source": [
        "falar(\"Olá eu sou um projeto de assistente virtual vou mostrar dados sobre o Titanic, diga uma das opções abaixo\")"
      ],
      "metadata": {
        "colab": {
          "base_uri": "https://localhost:8080/",
          "height": 75
        },
        "id": "RlbRcCKe3PKd",
        "outputId": "02911650-6bda-447a-f39a-b05921450159"
      },
      "execution_count": 31,
      "outputs": [
        {
          "output_type": "display_data",
          "data": {
            "text/plain": [
              "<IPython.lib.display.Audio object>"
            ],
            "text/html": [
              "\n",
              "                <audio  controls=\"controls\" autoplay=\"autoplay\">\n",
              "                    <source src=\"data:audio/x-wav;base64,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\" type=\"audio/x-wav\" />\n",
              "                    Your browser does not support the audio element.\n",
              "                </audio>\n",
              "              "
            ]
          },
          "metadata": {}
        }
      ]
    },
    {
      "cell_type": "code",
      "source": [
        "\n",
        "print(\"##############################################################\")\n",
        "print(\"-->Estatisticas ou estatisca\")\n",
        "print(\"-->numero de sobreviventes ou sobreviventes\")\n",
        "print(\"-->mulheres sobreviventes ou mulheres\")\n",
        "print(\"-->homens sobreviventes ou homens\")\n",
        "print(\"-->crianças sobreviventes ou crianças\")\n",
        "print(\"##############################################################\")\n"
      ],
      "metadata": {
        "colab": {
          "base_uri": "https://localhost:8080/"
        },
        "id": "8WE0-6Gyj5qH",
        "outputId": "6affe060-efc9-4e80-dd1a-1abae60b25dc"
      },
      "execution_count": 32,
      "outputs": [
        {
          "output_type": "stream",
          "name": "stdout",
          "text": [
            "##############################################################\n",
            "-->Estatisticas ou estatisca\n",
            "-->numero de sobreviventes ou sobreviventes\n",
            "-->mulheres sobreviventes ou mulheres\n",
            "-->homens sobreviventes ou homens\n",
            "-->crianças sobreviventes ou crianças\n",
            "##############################################################\n"
          ]
        }
      ]
    },
    {
      "cell_type": "code",
      "source": [
        "\n",
        "import speech_recognition as sr\n",
        "from gtts import gTTS\n",
        "import soundfile\n",
        "\n",
        "#Função para identificar o comando de voz\n",
        "def chamar_funcoes(wav: any):\n",
        "    #Habilita o microfone do usuário\n",
        "    recognizer = sr.Recognizer()\n",
        "        \n",
        "    try:\n",
        "        audio = sr.AudioData(wav, 44000, 2)\n",
        "       # soundfile.write('teste.wav',audio,audio.sample_rate)\n",
        "        with open(\"audio_file.wav\", \"wb\") as file:\n",
        "           file.write(audio.frame_data)\n",
        "        #Passa a variável para o algoritmo reconhecedor de padroes\n",
        "        frase = recognizer.recognize_google(audio,language='pt-BR')\n",
        "\n",
        "        #Retorna a frase pronunciada\n",
        "        falar(\"você disse \"+ frase)\n",
        "        if \"estatistica\" in frase or \"estatisticas\" in frase or \"estatística\" in frase or \"estatísticas\" in frase :\n",
        "            estatisticas()\n",
        "\n",
        "        elif \"número de sobreviventes\" in frase or  \"sobreviventes\" in frase or \"sobrevivente\" in frase:\n",
        "            falar(\"número de sobreviventes foi \" + str(survived_data.count().values[1]))\n",
        "    \n",
        "        elif \"mulheres sobreviventes\" in frase or  \"mulheres\" in frase:\n",
        "            falar(\"número de mulheres sobreviventes foi \" + str(mulheresSv))\n",
        "            \n",
        "        elif \"homens sobreviventes\" in frase or  \"homens\" in frase:\n",
        "            falar(\"número de homens sobreviventes foi \" + str(homensSv))\n",
        "       \n",
        "        elif \"crianças sobreviventes\" in frase or  \"crianças\" in frase:\n",
        "            falar(\"número de crianças sobreviventes foi \" + str(criancasSv))\n",
        "\n",
        "\n",
        "    #Se nao reconheceu o padrao de fala, exibe a mensagem\n",
        "    except sr.UnknownValueError:\n",
        "        print(\"Nao foi possivel reconhecer a palavra\")\n",
        "\n",
        "\n",
        "audio = get_audio()\n",
        "chamar_funcoes(audio)\n",
        "\n"
      ],
      "metadata": {
        "id": "-2iPJPRP_AzK",
        "colab": {
          "base_uri": "https://localhost:8080/",
          "height": 1000
        },
        "outputId": "f3f696bb-612e-45f8-e500-ba1ce8613070"
      },
      "execution_count": 37,
      "outputs": [
        {
          "output_type": "display_data",
          "data": {
            "text/plain": [
              "<IPython.core.display.HTML object>"
            ],
            "text/html": [
              "\n",
              "<script>\n",
              "var my_div = document.createElement(\"DIV\");\n",
              "var my_p = document.createElement(\"P\");\n",
              "var my_btn = document.createElement(\"BUTTON\");\n",
              "var t = document.createTextNode(\"Press to start recording\");\n",
              "\n",
              "my_btn.appendChild(t);\n",
              "//my_p.appendChild(my_btn);\n",
              "my_div.appendChild(my_btn);\n",
              "document.body.appendChild(my_div);\n",
              "\n",
              "var base64data = 0;\n",
              "var reader;\n",
              "var recorder, gumStream;\n",
              "var recordButton = my_btn;\n",
              "\n",
              "var handleSuccess = function(stream) {\n",
              "  gumStream = stream;\n",
              "  var options = {\n",
              "    //bitsPerSecond: 8000, //chrome seems to ignore, always 48k\n",
              "    mimeType : 'audio/webm;codecs=opus'\n",
              "    //mimeType : 'audio/webm;codecs=pcm'\n",
              "  };            \n",
              "  //recorder = new MediaRecorder(stream, options);\n",
              "  recorder = new MediaRecorder(stream);\n",
              "  recorder.ondataavailable = function(e) {            \n",
              "    var url = URL.createObjectURL(e.data);\n",
              "    var preview = document.createElement('audio');\n",
              "    preview.controls = true;\n",
              "    preview.src = url;\n",
              "    document.body.appendChild(preview);\n",
              "\n",
              "    reader = new FileReader();\n",
              "    reader.readAsDataURL(e.data); \n",
              "    reader.onloadend = function() {\n",
              "      base64data = reader.result;\n",
              "      //console.log(\"Inside FileReader:\" + base64data);\n",
              "    }\n",
              "  };\n",
              "  recorder.start();\n",
              "  };\n",
              "\n",
              "recordButton.innerText = \"Gravando... aperte para parar\";\n",
              "\n",
              "navigator.mediaDevices.getUserMedia({audio: true}).then(handleSuccess);\n",
              "\n",
              "\n",
              "function toggleRecording() {\n",
              "  if (recorder && recorder.state == \"recording\") {\n",
              "      recorder.stop();\n",
              "      gumStream.getAudioTracks()[0].stop();\n",
              "     ;; recordButton.innerText = \"Salvando o arquivo ... esperar!\"\n",
              "  }\n",
              "}\n",
              "\n",
              "// https://stackoverflow.com/a/951057\n",
              "function sleep(ms) {\n",
              "  return new Promise(resolve => setTimeout(resolve, ms));\n",
              "}\n",
              "\n",
              "var data = new Promise(resolve=>{\n",
              "//recordButton.addEventListener(\"click\", toggleRecording);\n",
              "recordButton.onclick = ()=>{\n",
              "toggleRecording()\n",
              "\n",
              "sleep(2000).then(() => {\n",
              "  // wait 1000ms for the data to be available...\n",
              "  // ideally this should use something like await...\n",
              "  //console.log(\"Inside data:\" + base64data)\n",
              "  resolve(base64data.toString())\n",
              "\n",
              "});\n",
              "\n",
              "}\n",
              "});\n",
              "      \n",
              "</script>\n"
            ]
          },
          "metadata": {}
        },
        {
          "output_type": "display_data",
          "data": {
            "text/plain": [
              "<IPython.lib.display.Audio object>"
            ],
            "text/html": [
              "\n",
              "                <audio  controls=\"controls\" autoplay=\"autoplay\">\n",
              "                    <source src=\"data:audio/x-wav;base64,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\" type=\"audio/x-wav\" />\n",
              "                    Your browser does not support the audio element.\n",
              "                </audio>\n",
              "              "
            ]
          },
          "metadata": {}
        },
        {
          "output_type": "stream",
          "name": "stderr",
          "text": [
            "/usr/local/lib/python3.7/dist-packages/seaborn/_decorators.py:43: FutureWarning: Pass the following variable as a keyword arg: x. From version 0.12, the only valid positional argument will be `data`, and passing other arguments without an explicit keyword will result in an error or misinterpretation.\n",
            "  FutureWarning\n",
            "/usr/local/lib/python3.7/dist-packages/seaborn/_decorators.py:43: FutureWarning: Pass the following variable as a keyword arg: x. From version 0.12, the only valid positional argument will be `data`, and passing other arguments without an explicit keyword will result in an error or misinterpretation.\n",
            "  FutureWarning\n",
            "/usr/local/lib/python3.7/dist-packages/seaborn/_decorators.py:43: FutureWarning: Pass the following variable as a keyword arg: x. From version 0.12, the only valid positional argument will be `data`, and passing other arguments without an explicit keyword will result in an error or misinterpretation.\n",
            "  FutureWarning\n",
            "/usr/local/lib/python3.7/dist-packages/seaborn/_decorators.py:43: FutureWarning: Pass the following variable as a keyword arg: x. From version 0.12, the only valid positional argument will be `data`, and passing other arguments without an explicit keyword will result in an error or misinterpretation.\n",
            "  FutureWarning\n",
            "/usr/local/lib/python3.7/dist-packages/seaborn/_decorators.py:43: FutureWarning: Pass the following variable as a keyword arg: x. From version 0.12, the only valid positional argument will be `data`, and passing other arguments without an explicit keyword will result in an error or misinterpretation.\n",
            "  FutureWarning\n",
            "/usr/local/lib/python3.7/dist-packages/seaborn/distributions.py:2619: FutureWarning: `distplot` is a deprecated function and will be removed in a future version. Please adapt your code to use either `displot` (a figure-level function with similar flexibility) or `histplot` (an axes-level function for histograms).\n",
            "  warnings.warn(msg, FutureWarning)\n",
            "/usr/local/lib/python3.7/dist-packages/seaborn/distributions.py:2619: FutureWarning: `distplot` is a deprecated function and will be removed in a future version. Please adapt your code to use either `displot` (a figure-level function with similar flexibility) or `histplot` (an axes-level function for histograms).\n",
            "  warnings.warn(msg, FutureWarning)\n"
          ]
        },
        {
          "output_type": "stream",
          "name": "stdout",
          "text": [
            "Sobreviventes por sexo\n",
            "Gráfico de sobreviventes e não sobreviventes\n",
            "Passageiros agrupados por local de embarque (C = Cherbourg, Q = Queenstown, S = Southampton):\n",
            "S    644\n",
            "C    168\n",
            "Q     77\n",
            "Name: Embarked, dtype: int64\n"
          ]
        },
        {
          "output_type": "display_data",
          "data": {
            "text/plain": [
              "<Figure size 1152x720 with 8 Axes>"
            ],
            "image/png": "[encoded data removed]"
          },
          "metadata": {
            "needs_background": "light"
          }
        },
        {
          "output_type": "display_data",
          "data": {
            "text/plain": [
              "<Figure size 432x216 with 2 Axes>"
            ],
            "image/png": "[encoded data removed]"
          },
          "metadata": {
            "needs_background": "light"
          }
        }
      ]
    }
  ]
}