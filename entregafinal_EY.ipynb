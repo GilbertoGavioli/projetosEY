{
  "nbformat": 4,
  "nbformat_minor": 0,
  "metadata": {
    "colab": {
      "provenance": [],
      "collapsed_sections": [],
      "authorship_tag": "ABX9TyOvt5Jp9XzH5JzsSCZOo9PP",
      "include_colab_link": true
    },
    "kernelspec": {
      "name": "python3",
      "display_name": "Python 3"
    },
    "language_info": {
      "name": "python"
    }
  },
  "cells": [
    {
      "cell_type": "markdown",
      "metadata": {
        "id": "view-in-github",
        "colab_type": "text"
      },
      "source": [
        "<a href=\"https://colab.research.google.com/github/GilbertoGavioli/projetosEY/blob/main/entregafinal_EY.ipynb\" target=\"_parent\"><img src=\"https://colab.research.google.com/assets/colab-badge.svg\" alt=\"Open In Colab\"/></a>"
      ]
    },
    {
      "cell_type": "markdown",
      "source": [
        "\n",
        "Este programa tem por objetivo criar uma assistente virtual que que mostra alguns dados do acidente do titanic, esta assistente usa a biblioteca do google para gravar falar algumas frases predefinidas e tambem reconhece alguns comandos de voz, comandos esses que tem por finalidade chamar alguns metodos que exigem por exemplo a quantidade de pessoas que sobreviveram ao acidente\n",
        "  "
      ],
      "metadata": {
        "id": "vr7LaN15V0Gm"
      }
    },
    {
      "cell_type": "code",
      "execution_count": null,
      "metadata": {
        "colab": {
          "base_uri": "https://localhost:8080/"
        },
        "id": "fEMffFXdVqBS",
        "outputId": "42a1bed0-76b5-4e91-a32f-e4c6bb5d5994"
      },
      "outputs": [
        {
          "output_type": "stream",
          "name": "stdout",
          "text": [
            "Looking in indexes: https://pypi.org/simple, https://us-python.pkg.dev/colab-wheels/public/simple/\n",
            "Requirement already satisfied: SpeechRecognition in /usr/local/lib/python3.7/dist-packages (3.8.1)\n"
          ]
        }
      ],
      "source": [
        "pip install SpeechRecognition"
      ]
    },
    {
      "cell_type": "code",
      "source": [
        "pip install gTTS"
      ],
      "metadata": {
        "colab": {
          "base_uri": "https://localhost:8080/"
        },
        "id": "YAjex5ToaDe4",
        "outputId": "99461cbd-2e79-43b5-ac6d-74bb88d2338c"
      },
      "execution_count": null,
      "outputs": [
        {
          "output_type": "stream",
          "name": "stdout",
          "text": [
            "Looking in indexes: https://pypi.org/simple, https://us-python.pkg.dev/colab-wheels/public/simple/\n",
            "Requirement already satisfied: gTTS in /usr/local/lib/python3.7/dist-packages (2.2.4)\n",
            "Requirement already satisfied: click in /usr/local/lib/python3.7/dist-packages (from gTTS) (7.1.2)\n",
            "Requirement already satisfied: six in /usr/local/lib/python3.7/dist-packages (from gTTS) (1.15.0)\n",
            "Requirement already satisfied: requests in /usr/local/lib/python3.7/dist-packages (from gTTS) (2.23.0)\n",
            "Requirement already satisfied: urllib3!=1.25.0,!=1.25.1,<1.26,>=1.21.1 in /usr/local/lib/python3.7/dist-packages (from requests->gTTS) (1.24.3)\n",
            "Requirement already satisfied: chardet<4,>=3.0.2 in /usr/local/lib/python3.7/dist-packages (from requests->gTTS) (3.0.4)\n",
            "Requirement already satisfied: idna<3,>=2.5 in /usr/local/lib/python3.7/dist-packages (from requests->gTTS) (2.10)\n",
            "Requirement already satisfied: certifi>=2017.4.17 in /usr/local/lib/python3.7/dist-packages (from requests->gTTS) (2022.9.24)\n"
          ]
        }
      ]
    },
    {
      "cell_type": "code",
      "source": [
        "!pip install os"
      ],
      "metadata": {
        "colab": {
          "base_uri": "https://localhost:8080/"
        },
        "id": "qkQbWC7vcUtx",
        "outputId": "f59b964b-18b9-4d24-ad44-a7d17bfc73da"
      },
      "execution_count": null,
      "outputs": [
        {
          "output_type": "stream",
          "name": "stdout",
          "text": [
            "Looking in indexes: https://pypi.org/simple, https://us-python.pkg.dev/colab-wheels/public/simple/\n",
            "\u001b[31mERROR: Could not find a version that satisfies the requirement os (from versions: none)\u001b[0m\n",
            "\u001b[31mERROR: No matching distribution found for os\u001b[0m\n"
          ]
        }
      ]
    },
    {
      "cell_type": "code",
      "source": [
        "pip install pandas"
      ],
      "metadata": {
        "colab": {
          "base_uri": "https://localhost:8080/"
        },
        "id": "ajGTcMc_cZ5u",
        "outputId": "d7a6a541-16e7-4427-a8c1-f05e12b0752d"
      },
      "execution_count": null,
      "outputs": [
        {
          "output_type": "stream",
          "name": "stdout",
          "text": [
            "Looking in indexes: https://pypi.org/simple, https://us-python.pkg.dev/colab-wheels/public/simple/\n",
            "Requirement already satisfied: pandas in /usr/local/lib/python3.7/dist-packages (1.3.5)\n",
            "Requirement already satisfied: pytz>=2017.3 in /usr/local/lib/python3.7/dist-packages (from pandas) (2022.4)\n",
            "Requirement already satisfied: python-dateutil>=2.7.3 in /usr/local/lib/python3.7/dist-packages (from pandas) (2.8.2)\n",
            "Requirement already satisfied: numpy>=1.17.3 in /usr/local/lib/python3.7/dist-packages (from pandas) (1.21.6)\n",
            "Requirement already satisfied: six>=1.5 in /usr/local/lib/python3.7/dist-packages (from python-dateutil>=2.7.3->pandas) (1.15.0)\n"
          ]
        }
      ]
    },
    {
      "cell_type": "code",
      "source": [
        "pip install numpy"
      ],
      "metadata": {
        "colab": {
          "base_uri": "https://localhost:8080/"
        },
        "id": "dH4fBvgLcrbD",
        "outputId": "cbd5e7d6-89d7-4104-be1a-f47b593ddb57"
      },
      "execution_count": null,
      "outputs": [
        {
          "output_type": "stream",
          "name": "stdout",
          "text": [
            "Looking in indexes: https://pypi.org/simple, https://us-python.pkg.dev/colab-wheels/public/simple/\n",
            "Requirement already satisfied: numpy in /usr/local/lib/python3.7/dist-packages (1.21.6)\n"
          ]
        }
      ]
    },
    {
      "cell_type": "code",
      "source": [
        "pip install matplotlib"
      ],
      "metadata": {
        "colab": {
          "base_uri": "https://localhost:8080/"
        },
        "id": "-2PPvaNXcxSk",
        "outputId": "9632b839-60e8-4ab6-bba0-c27f1488360e"
      },
      "execution_count": null,
      "outputs": [
        {
          "output_type": "stream",
          "name": "stdout",
          "text": [
            "Looking in indexes: https://pypi.org/simple, https://us-python.pkg.dev/colab-wheels/public/simple/\n",
            "Requirement already satisfied: matplotlib in /usr/local/lib/python3.7/dist-packages (3.2.2)\n",
            "Requirement already satisfied: numpy>=1.11 in /usr/local/lib/python3.7/dist-packages (from matplotlib) (1.21.6)\n",
            "Requirement already satisfied: python-dateutil>=2.1 in /usr/local/lib/python3.7/dist-packages (from matplotlib) (2.8.2)\n",
            "Requirement already satisfied: pyparsing!=2.0.4,!=2.1.2,!=2.1.6,>=2.0.1 in /usr/local/lib/python3.7/dist-packages (from matplotlib) (3.0.9)\n",
            "Requirement already satisfied: cycler>=0.10 in /usr/local/lib/python3.7/dist-packages (from matplotlib) (0.11.0)\n",
            "Requirement already satisfied: kiwisolver>=1.0.1 in /usr/local/lib/python3.7/dist-packages (from matplotlib) (1.4.4)\n",
            "Requirement already satisfied: typing-extensions in /usr/local/lib/python3.7/dist-packages (from kiwisolver>=1.0.1->matplotlib) (4.1.1)\n",
            "Requirement already satisfied: six>=1.5 in /usr/local/lib/python3.7/dist-packages (from python-dateutil>=2.1->matplotlib) (1.15.0)\n"
          ]
        }
      ]
    },
    {
      "cell_type": "code",
      "source": [
        "pip install pandas"
      ],
      "metadata": {
        "colab": {
          "base_uri": "https://localhost:8080/"
        },
        "id": "uJuGMoUOdR60",
        "outputId": "97cf1a1f-10aa-4458-a864-9a4fe7b260ad"
      },
      "execution_count": null,
      "outputs": [
        {
          "output_type": "stream",
          "name": "stdout",
          "text": [
            "Looking in indexes: https://pypi.org/simple, https://us-python.pkg.dev/colab-wheels/public/simple/\n",
            "Requirement already satisfied: pandas in /usr/local/lib/python3.7/dist-packages (1.3.5)\n",
            "Requirement already satisfied: numpy>=1.17.3 in /usr/local/lib/python3.7/dist-packages (from pandas) (1.21.6)\n",
            "Requirement already satisfied: python-dateutil>=2.7.3 in /usr/local/lib/python3.7/dist-packages (from pandas) (2.8.2)\n",
            "Requirement already satisfied: pytz>=2017.3 in /usr/local/lib/python3.7/dist-packages (from pandas) (2022.4)\n",
            "Requirement already satisfied: six>=1.5 in /usr/local/lib/python3.7/dist-packages (from python-dateutil>=2.7.3->pandas) (1.15.0)\n"
          ]
        }
      ]
    },
    {
      "cell_type": "code",
      "source": [
        "pip install seaborn"
      ],
      "metadata": {
        "colab": {
          "base_uri": "https://localhost:8080/"
        },
        "id": "_0ise39eeO-m",
        "outputId": "1549e8e3-af00-426f-c56f-9cb4a0847fca"
      },
      "execution_count": null,
      "outputs": [
        {
          "output_type": "stream",
          "name": "stdout",
          "text": [
            "Looking in indexes: https://pypi.org/simple, https://us-python.pkg.dev/colab-wheels/public/simple/\n",
            "Requirement already satisfied: seaborn in /usr/local/lib/python3.7/dist-packages (0.11.2)\n",
            "Requirement already satisfied: scipy>=1.0 in /usr/local/lib/python3.7/dist-packages (from seaborn) (1.7.3)\n",
            "Requirement already satisfied: numpy>=1.15 in /usr/local/lib/python3.7/dist-packages (from seaborn) (1.21.6)\n",
            "Requirement already satisfied: pandas>=0.23 in /usr/local/lib/python3.7/dist-packages (from seaborn) (1.3.5)\n",
            "Requirement already satisfied: matplotlib>=2.2 in /usr/local/lib/python3.7/dist-packages (from seaborn) (3.2.2)\n",
            "Requirement already satisfied: kiwisolver>=1.0.1 in /usr/local/lib/python3.7/dist-packages (from matplotlib>=2.2->seaborn) (1.4.4)\n",
            "Requirement already satisfied: pyparsing!=2.0.4,!=2.1.2,!=2.1.6,>=2.0.1 in /usr/local/lib/python3.7/dist-packages (from matplotlib>=2.2->seaborn) (3.0.9)\n",
            "Requirement already satisfied: cycler>=0.10 in /usr/local/lib/python3.7/dist-packages (from matplotlib>=2.2->seaborn) (0.11.0)\n",
            "Requirement already satisfied: python-dateutil>=2.1 in /usr/local/lib/python3.7/dist-packages (from matplotlib>=2.2->seaborn) (2.8.2)\n",
            "Requirement already satisfied: typing-extensions in /usr/local/lib/python3.7/dist-packages (from kiwisolver>=1.0.1->matplotlib>=2.2->seaborn) (4.1.1)\n",
            "Requirement already satisfied: pytz>=2017.3 in /usr/local/lib/python3.7/dist-packages (from pandas>=0.23->seaborn) (2022.4)\n",
            "Requirement already satisfied: six>=1.5 in /usr/local/lib/python3.7/dist-packages (from python-dateutil>=2.1->matplotlib>=2.2->seaborn) (1.15.0)\n"
          ]
        }
      ]
    },
    {
      "cell_type": "code",
      "source": [
        "!apt install libasound2-dev portaudio19-dev libportaudio2 libportaudiocpp0 ffmpeg"
      ],
      "metadata": {
        "colab": {
          "base_uri": "https://localhost:8080/"
        },
        "id": "Jn52Z_3Iguin",
        "outputId": "ec79e5ed-71e7-4cfa-f671-7c3db7693632"
      },
      "execution_count": null,
      "outputs": [
        {
          "output_type": "stream",
          "name": "stdout",
          "text": [
            "Reading package lists... Done\n",
            "Building dependency tree       \n",
            "Reading state information... Done\n",
            "libportaudio2 is already the newest version (19.6.0-1).\n",
            "libportaudiocpp0 is already the newest version (19.6.0-1).\n",
            "portaudio19-dev is already the newest version (19.6.0-1).\n",
            "libasound2-dev is already the newest version (1.1.3-5ubuntu0.6).\n",
            "ffmpeg is already the newest version (7:3.4.11-0ubuntu0.1).\n",
            "The following package was automatically installed and is no longer required:\n",
            "  libnvidia-common-460\n",
            "Use 'apt autoremove' to remove it.\n",
            "0 upgraded, 0 newly installed, 0 to remove and 27 not upgraded.\n"
          ]
        }
      ]
    },
    {
      "cell_type": "code",
      "source": [
        "!pip install ffmpeg-python"
      ],
      "metadata": {
        "colab": {
          "base_uri": "https://localhost:8080/"
        },
        "id": "FlLfVkS5uNz2",
        "outputId": "be98ccaf-555a-4012-8c07-ef270b617395"
      },
      "execution_count": null,
      "outputs": [
        {
          "output_type": "stream",
          "name": "stdout",
          "text": [
            "Looking in indexes: https://pypi.org/simple, https://us-python.pkg.dev/colab-wheels/public/simple/\n",
            "Requirement already satisfied: ffmpeg-python in /usr/local/lib/python3.7/dist-packages (0.2.0)\n",
            "Requirement already satisfied: future in /usr/local/lib/python3.7/dist-packages (from ffmpeg-python) (0.16.0)\n"
          ]
        }
      ]
    },
    {
      "cell_type": "code",
      "source": [
        "pip install display"
      ],
      "metadata": {
        "colab": {
          "base_uri": "https://localhost:8080/"
        },
        "id": "3cyGtd1_imFe",
        "outputId": "a61d4847-5b35-45e2-f88d-431f2ca90a7a"
      },
      "execution_count": null,
      "outputs": [
        {
          "output_type": "stream",
          "name": "stdout",
          "text": [
            "Looking in indexes: https://pypi.org/simple, https://us-python.pkg.dev/colab-wheels/public/simple/\n",
            "Requirement already satisfied: display in /usr/local/lib/python3.7/dist-packages (1.0.0)\n"
          ]
        }
      ]
    },
    {
      "cell_type": "code",
      "source": [
        "pip install tensorflow"
      ],
      "metadata": {
        "colab": {
          "base_uri": "https://localhost:8080/"
        },
        "id": "RUD6-u9Oc-Tc",
        "outputId": "f4693f0a-fcda-41eb-e2ca-dfdde71c2d57"
      },
      "execution_count": null,
      "outputs": [
        {
          "output_type": "stream",
          "name": "stdout",
          "text": [
            "Looking in indexes: https://pypi.org/simple, https://us-python.pkg.dev/colab-wheels/public/simple/\n",
            "Requirement already satisfied: tensorflow in /usr/local/lib/python3.7/dist-packages (2.9.2)\n",
            "Requirement already satisfied: protobuf<3.20,>=3.9.2 in /usr/local/lib/python3.7/dist-packages (from tensorflow) (3.17.3)\n",
            "Requirement already satisfied: astunparse>=1.6.0 in /usr/local/lib/python3.7/dist-packages (from tensorflow) (1.6.3)\n",
            "Requirement already satisfied: packaging in /usr/local/lib/python3.7/dist-packages (from tensorflow) (21.3)\n",
            "Requirement already satisfied: termcolor>=1.1.0 in /usr/local/lib/python3.7/dist-packages (from tensorflow) (2.0.1)\n",
            "Requirement already satisfied: google-pasta>=0.1.1 in /usr/local/lib/python3.7/dist-packages (from tensorflow) (0.2.0)\n",
            "Requirement already satisfied: tensorflow-io-gcs-filesystem>=0.23.1 in /usr/local/lib/python3.7/dist-packages (from tensorflow) (0.27.0)\n",
            "Requirement already satisfied: gast<=0.4.0,>=0.2.1 in /usr/local/lib/python3.7/dist-packages (from tensorflow) (0.4.0)\n",
            "Requirement already satisfied: tensorboard<2.10,>=2.9 in /usr/local/lib/python3.7/dist-packages (from tensorflow) (2.9.1)\n",
            "Requirement already satisfied: tensorflow-estimator<2.10.0,>=2.9.0rc0 in /usr/local/lib/python3.7/dist-packages (from tensorflow) (2.9.0)\n",
            "Requirement already satisfied: numpy>=1.20 in /usr/local/lib/python3.7/dist-packages (from tensorflow) (1.21.6)\n",
            "Requirement already satisfied: keras<2.10.0,>=2.9.0rc0 in /usr/local/lib/python3.7/dist-packages (from tensorflow) (2.9.0)\n",
            "Requirement already satisfied: opt-einsum>=2.3.2 in /usr/local/lib/python3.7/dist-packages (from tensorflow) (3.3.0)\n",
            "Requirement already satisfied: h5py>=2.9.0 in /usr/local/lib/python3.7/dist-packages (from tensorflow) (3.1.0)\n",
            "Requirement already satisfied: six>=1.12.0 in /usr/local/lib/python3.7/dist-packages (from tensorflow) (1.15.0)\n",
            "Requirement already satisfied: setuptools in /usr/local/lib/python3.7/dist-packages (from tensorflow) (57.4.0)\n",
            "Requirement already satisfied: flatbuffers<2,>=1.12 in /usr/local/lib/python3.7/dist-packages (from tensorflow) (1.12)\n",
            "Requirement already satisfied: wrapt>=1.11.0 in /usr/local/lib/python3.7/dist-packages (from tensorflow) (1.14.1)\n",
            "Requirement already satisfied: grpcio<2.0,>=1.24.3 in /usr/local/lib/python3.7/dist-packages (from tensorflow) (1.49.1)\n",
            "Requirement already satisfied: libclang>=13.0.0 in /usr/local/lib/python3.7/dist-packages (from tensorflow) (14.0.6)\n",
            "Requirement already satisfied: keras-preprocessing>=1.1.1 in /usr/local/lib/python3.7/dist-packages (from tensorflow) (1.1.2)\n",
            "Requirement already satisfied: typing-extensions>=3.6.6 in /usr/local/lib/python3.7/dist-packages (from tensorflow) (4.1.1)\n",
            "Requirement already satisfied: absl-py>=1.0.0 in /usr/local/lib/python3.7/dist-packages (from tensorflow) (1.3.0)\n",
            "Requirement already satisfied: wheel<1.0,>=0.23.0 in /usr/local/lib/python3.7/dist-packages (from astunparse>=1.6.0->tensorflow) (0.37.1)\n",
            "Requirement already satisfied: cached-property in /usr/local/lib/python3.7/dist-packages (from h5py>=2.9.0->tensorflow) (1.5.2)\n",
            "Requirement already satisfied: google-auth-oauthlib<0.5,>=0.4.1 in /usr/local/lib/python3.7/dist-packages (from tensorboard<2.10,>=2.9->tensorflow) (0.4.6)\n",
            "Requirement already satisfied: tensorboard-data-server<0.7.0,>=0.6.0 in /usr/local/lib/python3.7/dist-packages (from tensorboard<2.10,>=2.9->tensorflow) (0.6.1)\n",
            "Requirement already satisfied: werkzeug>=1.0.1 in /usr/local/lib/python3.7/dist-packages (from tensorboard<2.10,>=2.9->tensorflow) (1.0.1)\n",
            "Requirement already satisfied: requests<3,>=2.21.0 in /usr/local/lib/python3.7/dist-packages (from tensorboard<2.10,>=2.9->tensorflow) (2.23.0)\n",
            "Requirement already satisfied: markdown>=2.6.8 in /usr/local/lib/python3.7/dist-packages (from tensorboard<2.10,>=2.9->tensorflow) (3.4.1)\n",
            "Requirement already satisfied: google-auth<3,>=1.6.3 in /usr/local/lib/python3.7/dist-packages (from tensorboard<2.10,>=2.9->tensorflow) (1.35.0)\n",
            "Requirement already satisfied: tensorboard-plugin-wit>=1.6.0 in /usr/local/lib/python3.7/dist-packages (from tensorboard<2.10,>=2.9->tensorflow) (1.8.1)\n",
            "Requirement already satisfied: cachetools<5.0,>=2.0.0 in /usr/local/lib/python3.7/dist-packages (from google-auth<3,>=1.6.3->tensorboard<2.10,>=2.9->tensorflow) (4.2.4)\n",
            "Requirement already satisfied: pyasn1-modules>=0.2.1 in /usr/local/lib/python3.7/dist-packages (from google-auth<3,>=1.6.3->tensorboard<2.10,>=2.9->tensorflow) (0.2.8)\n",
            "Requirement already satisfied: rsa<5,>=3.1.4 in /usr/local/lib/python3.7/dist-packages (from google-auth<3,>=1.6.3->tensorboard<2.10,>=2.9->tensorflow) (4.9)\n",
            "Requirement already satisfied: requests-oauthlib>=0.7.0 in /usr/local/lib/python3.7/dist-packages (from google-auth-oauthlib<0.5,>=0.4.1->tensorboard<2.10,>=2.9->tensorflow) (1.3.1)\n",
            "Requirement already satisfied: importlib-metadata>=4.4 in /usr/local/lib/python3.7/dist-packages (from markdown>=2.6.8->tensorboard<2.10,>=2.9->tensorflow) (4.13.0)\n",
            "Requirement already satisfied: zipp>=0.5 in /usr/local/lib/python3.7/dist-packages (from importlib-metadata>=4.4->markdown>=2.6.8->tensorboard<2.10,>=2.9->tensorflow) (3.9.0)\n",
            "Requirement already satisfied: pyasn1<0.5.0,>=0.4.6 in /usr/local/lib/python3.7/dist-packages (from pyasn1-modules>=0.2.1->google-auth<3,>=1.6.3->tensorboard<2.10,>=2.9->tensorflow) (0.4.8)\n",
            "Requirement already satisfied: certifi>=2017.4.17 in /usr/local/lib/python3.7/dist-packages (from requests<3,>=2.21.0->tensorboard<2.10,>=2.9->tensorflow) (2022.9.24)\n",
            "Requirement already satisfied: chardet<4,>=3.0.2 in /usr/local/lib/python3.7/dist-packages (from requests<3,>=2.21.0->tensorboard<2.10,>=2.9->tensorflow) (3.0.4)\n",
            "Requirement already satisfied: urllib3!=1.25.0,!=1.25.1,<1.26,>=1.21.1 in /usr/local/lib/python3.7/dist-packages (from requests<3,>=2.21.0->tensorboard<2.10,>=2.9->tensorflow) (1.24.3)\n",
            "Requirement already satisfied: idna<3,>=2.5 in /usr/local/lib/python3.7/dist-packages (from requests<3,>=2.21.0->tensorboard<2.10,>=2.9->tensorflow) (2.10)\n",
            "Requirement already satisfied: oauthlib>=3.0.0 in /usr/local/lib/python3.7/dist-packages (from requests-oauthlib>=0.7.0->google-auth-oauthlib<0.5,>=0.4.1->tensorboard<2.10,>=2.9->tensorflow) (3.2.1)\n",
            "Requirement already satisfied: pyparsing!=3.0.5,>=2.0.2 in /usr/local/lib/python3.7/dist-packages (from packaging->tensorflow) (3.0.9)\n"
          ]
        }
      ]
    },
    {
      "cell_type": "code",
      "source": [
        "pip install keras"
      ],
      "metadata": {
        "colab": {
          "base_uri": "https://localhost:8080/"
        },
        "id": "LZHYo4SWc-Oz",
        "outputId": "4409e54a-5c7b-4ced-9fb7-6f7b3a6c2955"
      },
      "execution_count": null,
      "outputs": [
        {
          "output_type": "stream",
          "name": "stdout",
          "text": [
            "Looking in indexes: https://pypi.org/simple, https://us-python.pkg.dev/colab-wheels/public/simple/\n",
            "Requirement already satisfied: keras in /usr/local/lib/python3.7/dist-packages (2.9.0)\n"
          ]
        }
      ]
    },
    {
      "cell_type": "code",
      "source": [
        "pip install theano"
      ],
      "metadata": {
        "colab": {
          "base_uri": "https://localhost:8080/"
        },
        "id": "IUtABLRyc-Gw",
        "outputId": "3c7a4bb6-eec6-4ea0-c365-4b2cb8691800"
      },
      "execution_count": null,
      "outputs": [
        {
          "output_type": "stream",
          "name": "stdout",
          "text": [
            "Looking in indexes: https://pypi.org/simple, https://us-python.pkg.dev/colab-wheels/public/simple/\n",
            "Requirement already satisfied: theano in /usr/local/lib/python3.7/dist-packages (1.0.5)\n",
            "Requirement already satisfied: scipy>=0.14 in /usr/local/lib/python3.7/dist-packages (from theano) (1.7.3)\n",
            "Requirement already satisfied: numpy>=1.9.1 in /usr/local/lib/python3.7/dist-packages (from theano) (1.21.6)\n",
            "Requirement already satisfied: six>=1.9.0 in /usr/local/lib/python3.7/dist-packages (from theano) (1.15.0)\n"
          ]
        }
      ]
    },
    {
      "cell_type": "code",
      "source": [
        "pip install pyaudio"
      ],
      "metadata": {
        "colab": {
          "base_uri": "https://localhost:8080/"
        },
        "id": "0Ellewjy-S-j",
        "outputId": "fe41cf9b-69f5-4fa9-9385-908ff4daf058"
      },
      "execution_count": null,
      "outputs": [
        {
          "output_type": "stream",
          "name": "stdout",
          "text": [
            "Looking in indexes: https://pypi.org/simple, https://us-python.pkg.dev/colab-wheels/public/simple/\n",
            "Requirement already satisfied: pyaudio in /usr/local/lib/python3.7/dist-packages (0.2.12)\n"
          ]
        }
      ]
    },
    {
      "cell_type": "code",
      "source": [
        "pip install playsound"
      ],
      "metadata": {
        "colab": {
          "base_uri": "https://localhost:8080/"
        },
        "id": "nbIj_ipj0Pi8",
        "outputId": "93803680-d71e-406c-de39-6b908ca9f45b"
      },
      "execution_count": null,
      "outputs": [
        {
          "output_type": "stream",
          "name": "stdout",
          "text": [
            "Looking in indexes: https://pypi.org/simple, https://us-python.pkg.dev/colab-wheels/public/simple/\n",
            "Requirement already satisfied: playsound in /usr/local/lib/python3.7/dist-packages (1.3.0)\n"
          ]
        }
      ]
    },
    {
      "cell_type": "code",
      "source": [
        "!pip install SpeechRecognition"
      ],
      "metadata": {
        "colab": {
          "base_uri": "https://localhost:8080/"
        },
        "id": "R48hRvTwufhu",
        "outputId": "278405ef-8651-4a9b-d7b9-27668da8019a"
      },
      "execution_count": null,
      "outputs": [
        {
          "output_type": "stream",
          "name": "stdout",
          "text": [
            "Looking in indexes: https://pypi.org/simple, https://us-python.pkg.dev/colab-wheels/public/simple/\n",
            "Requirement already satisfied: SpeechRecognition in /usr/local/lib/python3.7/dist-packages (3.8.1)\n"
          ]
        }
      ]
    },
    {
      "cell_type": "markdown",
      "source": [
        "codigo usado para capturar o audio atraves do javascript"
      ],
      "metadata": {
        "id": "vbOxgJlaYZM2"
      }
    },
    {
      "cell_type": "code",
      "source": [
        "from IPython.display import HTML, Audio\n",
        "from google.colab.output import eval_js\n",
        "from base64 import b64decode\n",
        "import io\n",
        "import ffmpeg\n",
        "import time\n",
        "\n",
        "AUDIO_HTML = \"\"\"\n",
        "<script>\n",
        "var my_div = document.createElement(\"DIV\");\n",
        "var my_p = document.createElement(\"P\");\n",
        "var my_btn = document.createElement(\"BUTTON\");\n",
        "var t = document.createTextNode(\"Press to start recording\");\n",
        "\n",
        "my_btn.appendChild(t);\n",
        "//my_p.appendChild(my_btn);\n",
        "my_div.appendChild(my_btn);\n",
        "document.body.appendChild(my_div);\n",
        "\n",
        "var base64data = 0;\n",
        "var reader;\n",
        "var recorder, gumStream;\n",
        "var recordButton = my_btn;\n",
        "\n",
        "var handleSuccess = function(stream) {\n",
        "  gumStream = stream;\n",
        "  var options = {\n",
        "    //bitsPerSecond: 8000, //chrome seems to ignore, always 48k\n",
        "    mimeType : 'audio/webm;codecs=opus'\n",
        "    //mimeType : 'audio/webm;codecs=pcm'\n",
        "  };            \n",
        "  //recorder = new MediaRecorder(stream, options);\n",
        "  recorder = new MediaRecorder(stream);\n",
        "  recorder.ondataavailable = function(e) {            \n",
        "    var url = URL.createObjectURL(e.data);\n",
        "    var preview = document.createElement('audio');\n",
        "    preview.controls = true;\n",
        "    preview.src = url;\n",
        "    document.body.appendChild(preview);\n",
        "\n",
        "    reader = new FileReader();\n",
        "    reader.readAsDataURL(e.data); \n",
        "    reader.onloadend = function() {\n",
        "      base64data = reader.result;\n",
        "      //console.log(\"Inside FileReader:\" + base64data);\n",
        "    }\n",
        "  };\n",
        "  recorder.start();\n",
        "  };\n",
        "\n",
        "recordButton.innerText = \"Recording... aperte para parar\";\n",
        "\n",
        "navigator.mediaDevices.getUserMedia({audio: true}).then(handleSuccess);\n",
        "\n",
        "\n",
        "function toggleRecording() {\n",
        "  if (recorder && recorder.state == \"recording\") {\n",
        "      recorder.stop();\n",
        "      gumStream.getAudioTracks()[0].stop();\n",
        "     // recordButton.innerText = \"Salvando o arquivo ... esperar!\"\n",
        "  }\n",
        "}\n",
        "\n",
        "// https://stackoverflow.com/a/951057\n",
        "function sleep(ms) {\n",
        "  return new Promise(resolve => setTimeout(resolve, ms));\n",
        "}\n",
        "\n",
        "var data = new Promise(resolve=>{\n",
        "//recordButton.addEventListener(\"click\", toggleRecording);\n",
        "recordButton.onclick = ()=>{\n",
        "toggleRecording()\n",
        "\n",
        "sleep(2000).then(() => {\n",
        "  // wait 1000ms for the data to be available...\n",
        "  // ideally this should use something like await...\n",
        "  //console.log(\"Inside data:\" + base64data)\n",
        "  resolve(base64data.toString())\n",
        "\n",
        "});\n",
        "\n",
        "}\n",
        "});\n",
        "      \n",
        "</script>\n",
        "\"\"\"\n",
        "\n",
        "def get_audio():\n",
        "  display(HTML(AUDIO_HTML))\n",
        "  data = eval_js(\"data\")\n",
        "  binary = b64decode(data.split(',')[1])\n",
        "  \n",
        "  process = (ffmpeg\n",
        "    .input('pipe:0')\n",
        "    .output('pipe:1', format='wav')\n",
        "    .run_async(pipe_stdin=True, pipe_stdout=True, pipe_stderr=True, quiet=True, overwrite_output=True)\n",
        "  )\n",
        "  output, err = process.communicate(input=binary)\n",
        "  time.sleep(3)\n",
        "\n",
        "  return output"
      ],
      "metadata": {
        "id": "kum9Aea_ukzX"
      },
      "execution_count": null,
      "outputs": []
    },
    {
      "cell_type": "code",
      "source": [
        "from gtts import gTTS\n",
        "\n",
        "def responder(resposta: str):\n",
        "  language = \"pt-BR\"\n",
        "  gtts_object = gTTS(text = resposta, \n",
        "                    lang = language,\n",
        "                    slow = False)\n",
        "  fileName = \"/content/gtts.wav\"\n",
        "  gtts_object.save(fileName)\n",
        "  return fileName"
      ],
      "metadata": {
        "id": "mBrYDUwUu7pv"
      },
      "execution_count": null,
      "outputs": []
    },
    {
      "cell_type": "code",
      "source": [
        "from logging import exception\n",
        "import os\n",
        "import gtts\n",
        "import speech_recognition as sr\n",
        "import time\n",
        "import pandas as pd\n",
        "import numpy as np\n",
        "import matplotlib.pyplot as plt\n",
        "import seaborn as sns"
      ],
      "metadata": {
        "id": "gDHN3id8c5fA"
      },
      "execution_count": null,
      "outputs": []
    },
    {
      "cell_type": "markdown",
      "source": [
        "metodo responsavel por gerar instrucao de voz para o usuario"
      ],
      "metadata": {
        "id": "ry5z3tCufPEU"
      }
    },
    {
      "cell_type": "code",
      "source": [
        "from playsound import playsound\n",
        "\n",
        "def falar(texto_para_falar):\n",
        "    language = \"pt\"\n",
        "    audioGeradoWAV = 'texto.wav'\n",
        "    tts = gTTS(texto_para_falar, lang=language,slow = False) \n",
        "    tts.save(audioGeradoWAV)\n",
        "    wn = Audio(audioGeradoWAV, autoplay=True) ##\n",
        "    display(wn)\n",
        "    os.remove(audioGeradoWAV)"
      ],
      "metadata": {
        "id": "HaqC8lgazHlk"
      },
      "execution_count": null,
      "outputs": []
    },
    {
      "cell_type": "markdown",
      "source": [
        "Carrega o dataset da atraves do pandas"
      ],
      "metadata": {
        "id": "zkl0I6urYA-b"
      }
    },
    {
      "cell_type": "code",
      "source": [
        "#importa o arquivo que sera usado para gerar os dados\n",
        "#aqui utilizamos a biblioteca pandas\n",
        "df = pd.read_csv('https://drive.google.com/uc?export=download&id=16QXJPOZ5XNrtvRRrTrlJM1cDw0MD5OQZ')\n",
        "#dt = pd.read_csv('https://drive.google.com/uc?export=download&id=1eiEcNgPAR0TI1hPALfOTCG8oF-XTdwiO')\n",
        "\n",
        "#df = pd.read_csv('https://storage.googleapis.com/tf-datasets/titanic/train.csv')"
      ],
      "metadata": {
        "id": "GWeflkP4gEnU"
      },
      "execution_count": null,
      "outputs": []
    },
    {
      "cell_type": "markdown",
      "source": [
        "CArraga todoas as variaveis que serão usadas nas estatisticas"
      ],
      "metadata": {
        "id": "sKECnZP3X4Rq"
      }
    },
    {
      "cell_type": "code",
      "source": [
        "s_count = df.loc[df['Survived'] == 1, ['Sex']].value_counts(sort=False)\n",
        "\n",
        "survived_data = df[df['Survived'] == 1]\n",
        "death_data = df[df['Survived'] == 0]\n",
        "\n",
        "mulheresSv =  survived_data[survived_data['Sex']=='female'].count().values[1]\n",
        "homensSv =  survived_data[survived_data['Sex']=='male'].count().values[1]\n",
        "criancasSv = survived_data[survived_data['Age']<=13].count().values[1]\n",
        "\n",
        "mulheresDt =  death_data[death_data['Sex']=='female'].count().values[1]\n",
        "homensDt =  death_data[death_data['Sex']=='male'].count().values[1]\n",
        "criancasDt = death_data[death_data['Age']<=13].count().values[1]"
      ],
      "metadata": {
        "id": "dATPqg9Xj-po"
      },
      "execution_count": null,
      "outputs": []
    },
    {
      "cell_type": "markdown",
      "source": [
        "Metodo que carrega todas as estatisticas para serem exibidas caso o usuario solicite"
      ],
      "metadata": {
        "id": "8lyvt-mgXrFy"
      }
    },
    {
      "cell_type": "code",
      "source": [
        "def estatisticas():\n",
        "  fig, axes = plt.subplots(2, 4, figsize=(16, 10))\n",
        "  sns.countplot('Pclass',data=df,ax=axes[0,1])\n",
        "  sns.countplot('Sex',data=df,ax=axes[0,2])\n",
        "  sns.countplot('SibSp',data=df,ax=axes[0,3])\n",
        "  sns.countplot('Parch',data=df,ax=axes[1,0])\n",
        "  sns.countplot('Embarked',data=df,ax=axes[1,1])\n",
        "  sns.distplot(df['Fare'], kde=True,ax=axes[1,2])\n",
        "  sns.distplot(df['Age'].dropna(),kde=True,ax=axes[1,3])\n",
        "\n",
        "  print(\"Sobreviventes por sexo\")\n",
        "  df[[\"Sex\", \"Survived\"]].groupby(['Sex'], as_index=False).mean().sort_values(by='Survived', ascending=False)\n",
        "\n",
        "  print(\"Gráfico de sobreviventes e não sobrevivents\")\n",
        "  g = sns.FacetGrid(df, col='Survived')\n",
        "  g.map(plt.hist, 'Age', bins=20)\n",
        "\n",
        "  print('Passageiros agrupados por local de embarque (C = Cherbourg, Q = Queenstown, S = Southampton):')\n",
        "  print(df['Embarked'].value_counts())\n",
        "  sns.countplot(x='Embarked', data=df, palette='Set2')\n",
        "  plt.show()\n",
        "\n",
        "  df.describe()"
      ],
      "metadata": {
        "id": "z9O7DxBc80l4"
      },
      "execution_count": null,
      "outputs": []
    },
    {
      "cell_type": "code",
      "source": [
        "falar(\"Olá eu sou um projeto de assistente virtual vou mostrar dados sobre o Titanic, diga uma das opções abaixo\")"
      ],
      "metadata": {
        "colab": {
          "base_uri": "https://localhost:8080/",
          "height": 75
        },
        "id": "RlbRcCKe3PKd",
        "outputId": "b151d584-ebf2-47a6-edeb-f25127786265"
      },
      "execution_count": null,
      "outputs": [
        {
          "output_type": "display_data",
          "data": {
            "text/plain": [
              "<IPython.lib.display.Audio object>"
            ],
            "text/html": [
              "\n",
              "                <audio  controls=\"controls\" autoplay=\"autoplay\">\n",
              "                    <source src=\"data:audio/x-wav;base64,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\" type=\"audio/x-wav\" />\n",
              "                    Your browser does not support the audio element.\n",
              "                </audio>\n",
              "              "
            ]
          },
          "metadata": {}
        }
      ]
    },
    {
      "cell_type": "code",
      "source": [
        "\n",
        "print(\"##############################################################\")\n",
        "print(\"-->Estatisticas ou estatisca\")\n",
        "print(\"-->numero de sobreviventes ou sobreviventes\")\n",
        "print(\"-->mulheres sobreviventes ou mulheres\")\n",
        "print(\"-->homens sobreviventes ou homens\")\n",
        "print(\"-->crianças sobreviventes ou crianças\")\n",
        "print(\"##############################################################\")\n"
      ],
      "metadata": {
        "colab": {
          "base_uri": "https://localhost:8080/"
        },
        "id": "8WE0-6Gyj5qH",
        "outputId": "615df003-2b58-49ab-adf7-5d44df11bb4f"
      },
      "execution_count": null,
      "outputs": [
        {
          "output_type": "stream",
          "name": "stdout",
          "text": [
            "##############################################################\n",
            "-->Estatisticas ou estatisca\n",
            "-->numero de sobreviventes ou sobreviventes\n",
            "-->mulheres sobreviventes ou mulheres\n",
            "-->homens sobreviventes ou homens\n",
            "-->crianças sobreviventes ou crianças\n",
            "##############################################################\n"
          ]
        }
      ]
    },
    {
      "cell_type": "code",
      "source": [
        "import speech_recognition as sr\n",
        "from gtts import gTTS\n",
        "from IPython.display import Audio\n",
        "\n",
        "\n",
        "#Função para identificar o comando de voz\n",
        "def chamar_funcoes(wav: any):\n",
        "    #Habilita o microfone do usuário\n",
        "    recognizer = sr.Recognizer()\n",
        "        \n",
        "    try:\n",
        "        audio = sr.AudioData(wav, 44000, 2)\n",
        "        \n",
        "        #Passa a variável para o algoritmo reconhecedor de padroes\n",
        "        frase = recognizer.recognize_google(audio,language='pt-BR')\n",
        "\n",
        "        #Retorna a frase pronunciada\n",
        "        print(\"Você disse: \" + frase)\n",
        "\n",
        "        if \"estatistica\"  in frase or \"estatisicas\" in frase :\n",
        "            estatisticas()\n",
        "\n",
        "        elif \"número de sobreviventes\" in frase or  \"sobreviventes\" in frase or \"sobrevivente\" in frase:\n",
        "            falar(\"número de sobreviventes foi \" + str(survived_data.count().values[1]))\n",
        "    \n",
        "        elif \"mulheres sobreviventes\" in frase or  \"mulheres\" in frase:\n",
        "            falar(\"número de mulheres sobreviventes foi \" + str(mulheresSv))\n",
        "            \n",
        "        elif \"homens sobreviventes\" in frase or  \"homens\" in frase:\n",
        "            falar(\"número de homens sobreviventes foi \" + str(homensSv))\n",
        "       \n",
        "        elif \"crianças sobreviventes\" in frase or  \"crianças\" in frase:\n",
        "            falar(\"número de crianças sobreviventes foi \" + str(criancasSv))\n",
        "\n",
        "\n",
        "    #Se nao reconheceu o padrao de fala, exibe a mensagem\n",
        "    except sr.UnknownValueError:\n",
        "        print(\"Ocorreu um erro inesperado\")\n",
        "\n",
        "\n",
        "audio = get_audio()\n",
        "\n",
        "chamar_funcoes(audio)\n",
        "\n"
      ],
      "metadata": {
        "colab": {
          "base_uri": "https://localhost:8080/",
          "height": 241
        },
        "id": "-2iPJPRP_AzK",
        "outputId": "1539aced-1ca5-4a99-f4a0-e13dd0276a34"
      },
      "execution_count": null,
      "outputs": [
        {
          "output_type": "error",
          "ename": "NameError",
          "evalue": "ignored",
          "traceback": [
            "\u001b[0;31m---------------------------------------------------------------------------\u001b[0m",
            "\u001b[0;31mNameError\u001b[0m                                 Traceback (most recent call last)",
            "\u001b[0;32m<ipython-input-5-58f498dd6f2d>\u001b[0m in \u001b[0;36m<module>\u001b[0;34m\u001b[0m\n\u001b[1;32m     40\u001b[0m \u001b[0;34m\u001b[0m\u001b[0m\n\u001b[1;32m     41\u001b[0m \u001b[0;34m\u001b[0m\u001b[0m\n\u001b[0;32m---> 42\u001b[0;31m \u001b[0maudio\u001b[0m \u001b[0;34m=\u001b[0m \u001b[0mget_audio\u001b[0m\u001b[0;34m(\u001b[0m\u001b[0;34m)\u001b[0m\u001b[0;34m\u001b[0m\u001b[0;34m\u001b[0m\u001b[0m\n\u001b[0m\u001b[1;32m     43\u001b[0m \u001b[0;34m\u001b[0m\u001b[0m\n\u001b[1;32m     44\u001b[0m \u001b[0mchamar_funcoes\u001b[0m\u001b[0;34m(\u001b[0m\u001b[0maudio\u001b[0m\u001b[0;34m)\u001b[0m\u001b[0;34m\u001b[0m\u001b[0;34m\u001b[0m\u001b[0m\n",
            "\u001b[0;31mNameError\u001b[0m: name 'get_audio' is not defined"
          ]
        }
      ]
    }
  ]
}